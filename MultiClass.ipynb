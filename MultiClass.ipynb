{
 "cells": [
  {
   "cell_type": "markdown",
   "metadata": {},
   "source": [
    "# Making a OOP MultiClass Classification Neuronal Network\n",
    "\n",
    "- The purpose of this notebook is to code a MultiClass Classification Artificial Neuronal Network with a semi-professionnal workflow.\n",
    "- The second objective is to practice OOP\n",
    "- And finally, it is also done to practice doscstring and commentaries"
   ]
  },
  {
   "cell_type": "code",
   "execution_count": 1,
   "metadata": {},
   "outputs": [],
   "source": [
    "# Importation of usefull librairies\n",
    "\n",
    "import numpy as np\n",
    "import matplotlib.pyplot as plt"
   ]
  },
  {
   "cell_type": "code",
   "execution_count": 5,
   "metadata": {},
   "outputs": [
    {
     "name": "stdout",
     "output_type": "stream",
     "text": [
      "None\n",
      "None\n"
     ]
    },
    {
     "ename": "NotImplementedError",
     "evalue": "",
     "output_type": "error",
     "traceback": [
      "\u001b[0;31m---------------------------------------------------------------------------\u001b[0m",
      "\u001b[0;31mNotImplementedError\u001b[0m                       Traceback (most recent call last)",
      "\u001b[0;32m<ipython-input-5-aba60c672cbf>\u001b[0m in \u001b[0;36m<module>\u001b[0;34m\u001b[0m\n\u001b[1;32m     20\u001b[0m \u001b[0mprint\u001b[0m\u001b[0;34m(\u001b[0m\u001b[0mlayer_test\u001b[0m\u001b[0;34m.\u001b[0m\u001b[0minput\u001b[0m\u001b[0;34m)\u001b[0m\u001b[0;34m\u001b[0m\u001b[0;34m\u001b[0m\u001b[0m\n\u001b[1;32m     21\u001b[0m \u001b[0mprint\u001b[0m\u001b[0;34m(\u001b[0m\u001b[0mlayer_test\u001b[0m\u001b[0;34m.\u001b[0m\u001b[0moutput\u001b[0m\u001b[0;34m)\u001b[0m\u001b[0;34m\u001b[0m\u001b[0;34m\u001b[0m\u001b[0m\n\u001b[0;32m---> 22\u001b[0;31m \u001b[0mprint\u001b[0m\u001b[0;34m(\u001b[0m\u001b[0mlayer_test\u001b[0m\u001b[0;34m.\u001b[0m\u001b[0mforward\u001b[0m\u001b[0;34m(\u001b[0m\u001b[0;34m'test'\u001b[0m\u001b[0;34m)\u001b[0m\u001b[0;34m)\u001b[0m\u001b[0;34m\u001b[0m\u001b[0;34m\u001b[0m\u001b[0m\n\u001b[0m\u001b[1;32m     23\u001b[0m \u001b[0mprint\u001b[0m\u001b[0;34m(\u001b[0m\u001b[0mlayer_test\u001b[0m\u001b[0;34m.\u001b[0m\u001b[0mbackward\u001b[0m\u001b[0;34m(\u001b[0m\u001b[0;34m'test'\u001b[0m\u001b[0;34m,\u001b[0m \u001b[0;34m'test'\u001b[0m\u001b[0;34m)\u001b[0m\u001b[0;34m)\u001b[0m\u001b[0;34m\u001b[0m\u001b[0;34m\u001b[0m\u001b[0m\n",
      "\u001b[0;32m<ipython-input-5-aba60c672cbf>\u001b[0m in \u001b[0;36mforward\u001b[0;34m(self, input)\u001b[0m\n\u001b[1;32m     10\u001b[0m     \u001b[0;31m# Compute output Y of a layer for a given input\u001b[0m\u001b[0;34m\u001b[0m\u001b[0;34m\u001b[0m\u001b[0;34m\u001b[0m\u001b[0m\n\u001b[1;32m     11\u001b[0m     \u001b[0;32mdef\u001b[0m \u001b[0mforward\u001b[0m\u001b[0;34m(\u001b[0m\u001b[0mself\u001b[0m\u001b[0;34m,\u001b[0m \u001b[0minput\u001b[0m\u001b[0;34m)\u001b[0m\u001b[0;34m:\u001b[0m\u001b[0;34m\u001b[0m\u001b[0;34m\u001b[0m\u001b[0m\n\u001b[0;32m---> 12\u001b[0;31m         \u001b[0;32mraise\u001b[0m \u001b[0mNotImplementedError\u001b[0m\u001b[0;34m\u001b[0m\u001b[0;34m\u001b[0m\u001b[0m\n\u001b[0m\u001b[1;32m     13\u001b[0m \u001b[0;34m\u001b[0m\u001b[0m\n\u001b[1;32m     14\u001b[0m     \u001b[0;31m# Compute dE/dX for a given dE/dY and update parameters\u001b[0m\u001b[0;34m\u001b[0m\u001b[0;34m\u001b[0m\u001b[0;34m\u001b[0m\u001b[0m\n",
      "\u001b[0;31mNotImplementedError\u001b[0m: "
     ]
    }
   ],
   "source": [
    "# Creation of layer class\n",
    "\n",
    "class layer():\n",
    "    \"\"\" Create a Neuronal layer \"\"\"\n",
    "    \n",
    "    def __init__(self):\n",
    "        self.input = None\n",
    "        self.output = None\n",
    "    \n",
    "    # Compute output Y of a layer for a given input\n",
    "    def forward(self, input):\n",
    "        raise NotImplementedError\n",
    "    \n",
    "    # Compute dE/dX for a given dE/dY and update parameters\n",
    "    def backward(self, output_error, learning_rate):\n",
    "        raise NotImplementedError\n",
    "        \n",
    "layer_test = layer()\n",
    "\n",
    "print(layer_test.input)\n",
    "print(layer_test.output)\n",
    "print(layer_test.forward('test'))\n",
    "print(layer_test.backward('test', 'test'))"
   ]
  },
  {
   "cell_type": "code",
   "execution_count": 15,
   "metadata": {},
   "outputs": [
    {
     "name": "stdout",
     "output_type": "stream",
     "text": [
      "(2, 4)\n",
      "(2, 1)\n",
      "(2, 10)\n",
      "(4, 10)\n"
     ]
    }
   ],
   "source": [
    "# Making of a class FullyConnectedLayer\n",
    "\n",
    "class FClayer(layer):\n",
    "    \"\"\" Create a fully connected layer that heritate from layer\n",
    "    \n",
    "    :input_size, inputs numbers\n",
    "    :output_size, output numbers\n",
    "    \n",
    "    return input_error, dZ/dA[-1]\"\"\"\n",
    "    \n",
    "    def __init__(self, input_size, output_size):\n",
    "        # Weight et bias initiliazisation\n",
    "        self.W = np.random.randn(output_size, input_size)\n",
    "        self.b = np.random.randn(output_size, 1)\n",
    "        \n",
    "    def forward_propagation(self, input_data):\n",
    "        self.input = input_data\n",
    "        self.output = np.dot(self.W, self.input) + self.b\n",
    "        \n",
    "        return self.output\n",
    "        \n",
    "    def backward_propagation(self, output_error, learning_rate):\n",
    "        input_error = np.dot(self.W.T, output_error)\n",
    "        weights_error = np.dot(output_error, self.input.T)\n",
    "        \n",
    "        # bias = output_error\n",
    "        \n",
    "        # Updating weights and bias\n",
    "        \n",
    "        self.W = self.W - learning_rate * weights_error\n",
    "        self.b = self.b - learning_rate * output_error\n",
    "        \n",
    "        return input_error\n",
    "        \n",
    "test_fclayer = FClayer(4, 2)\n",
    "input_data_test = np.random.randn(4, 10)\n",
    "output_error_test = np.random.randn(2, 10)\n",
    "\n",
    "print(test_fclayer.W.shape)\n",
    "print(test_fclayer.b.shape)\n",
    "print(test_fclayer.forward_propagation(input_data_test).shape)\n",
    "print(test_fclayer.backward_propagation(output_error_test, 0.5).shape)"
   ]
  }
 ],
 "metadata": {
  "kernelspec": {
   "display_name": "Python 3",
   "language": "python",
   "name": "python3"
  },
  "language_info": {
   "codemirror_mode": {
    "name": "ipython",
    "version": 3
   },
   "file_extension": ".py",
   "mimetype": "text/x-python",
   "name": "python",
   "nbconvert_exporter": "python",
   "pygments_lexer": "ipython3",
   "version": "3.7.1"
  }
 },
 "nbformat": 4,
 "nbformat_minor": 2
}
