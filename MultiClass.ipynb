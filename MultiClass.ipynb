{
 "cells": [
  {
   "cell_type": "markdown",
   "metadata": {},
   "source": [
    "# Making a OOP MultiClass Classification Neuronal Network\n",
    "\n",
    "- The purpose of this notebook is to code a MultiClass Classification Artificial Neuronal Network with a semi-professionnal workflow.\n",
    "- The second objective is to practice OOP\n",
    "- And finally, it is also done to practice doscstring and commentaries"
   ]
  }
 ],
 "metadata": {
  "kernelspec": {
   "display_name": "Python 3",
   "language": "python",
   "name": "python3"
  },
  "language_info": {
   "codemirror_mode": {
    "name": "ipython",
    "version": 3
   },
   "file_extension": ".py",
   "mimetype": "text/x-python",
   "name": "python",
   "nbconvert_exporter": "python",
   "pygments_lexer": "ipython3",
   "version": "3.7.1"
  }
 },
 "nbformat": 4,
 "nbformat_minor": 2
}
